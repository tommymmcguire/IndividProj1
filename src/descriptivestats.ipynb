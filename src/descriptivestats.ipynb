{
 "cells": [
  {
   "cell_type": "code",
   "execution_count": 1,
   "metadata": {},
   "outputs": [],
   "source": [
    "'''\n",
    "A Jupyter Notebook utilizing the descriptive statistics functions in the lib.py module.\n",
    "'''\n",
    "import lib"
   ]
  },
  {
   "cell_type": "code",
   "execution_count": 2,
   "metadata": {},
   "outputs": [
    {
     "data": {
      "text/html": [
       "<div><style>\n",
       ".dataframe > thead > tr > th,\n",
       ".dataframe > tbody > tr > td {\n",
       "  text-align: right;\n",
       "  white-space: pre-wrap;\n",
       "}\n",
       "</style>\n",
       "<small>shape: (32_780, 6)</small><table border=\"1\" class=\"dataframe\"><thead><tr><th></th><th>name</th><th>region</th><th>variety</th><th>rating</th><th>notes</th></tr><tr><td>i64</td><td>str</td><td>str</td><td>str</td><td>f64</td><td>str</td></tr></thead><tbody><tr><td>0</td><td>&quot;1000 Stories B…</td><td>&quot;Mendocino, Cal…</td><td>&quot;Red Wine&quot;</td><td>91.0</td><td>&quot;This is a very…</td></tr><tr><td>1</td><td>&quot;1000 Stories B…</td><td>&quot;California&quot;</td><td>&quot;Red Wine&quot;</td><td>89.0</td><td>&quot;The California…</td></tr><tr><td>2</td><td>&quot;1000 Stories B…</td><td>&quot;California&quot;</td><td>&quot;Red Wine&quot;</td><td>90.0</td><td>&quot;The California…</td></tr><tr><td>3</td><td>&quot;1000 Stories B…</td><td>&quot;North Coast, C…</td><td>&quot;Red Wine&quot;</td><td>91.0</td><td>&quot;The wine has a…</td></tr><tr><td>4</td><td>&quot;1000 Stories B…</td><td>&quot;California&quot;</td><td>&quot;Red Wine&quot;</td><td>90.0</td><td>&quot;Batch #004 is …</td></tr><tr><td>5</td><td>&quot;1000 Stories B…</td><td>&quot;California&quot;</td><td>&quot;Red Wine&quot;</td><td>91.0</td><td>&quot;1,000 Stories …</td></tr><tr><td>6</td><td>&quot;1000 Stories B…</td><td>&quot;California&quot;</td><td>&quot;Red Wine&quot;</td><td>92.0</td><td>&quot;Batch 55 embod…</td></tr><tr><td>7</td><td>&quot;12 Linajes Cri…</td><td>&quot;Ribera del Due…</td><td>&quot;Red Wine&quot;</td><td>92.0</td><td>&quot;Red with viole…</td></tr><tr><td>8</td><td>&quot;12 Linajes Res…</td><td>&quot;Ribera del Due…</td><td>&quot;Red Wine&quot;</td><td>94.0</td><td>&quot;On the nose, a…</td></tr><tr><td>9</td><td>&quot;14 Hands Caber…</td><td>&quot;Columbia Valle…</td><td>&quot;Red Wine&quot;</td><td>87.0</td><td>&quot;Concentrated a…</td></tr><tr><td>10</td><td>&quot;14 Hands Caber…</td><td>&quot;Columbia Valle…</td><td>&quot;Red Wine&quot;</td><td>89.0</td><td>&quot;Concentrated a…</td></tr><tr><td>11</td><td>&quot;14 Hands Caber…</td><td>&quot;Columbia Valle…</td><td>&quot;Red Wine&quot;</td><td>89.0</td><td>&quot;The 14 Hands C…</td></tr><tr><td>&hellip;</td><td>&hellip;</td><td>&hellip;</td><td>&hellip;</td><td>&hellip;</td><td>&hellip;</td></tr><tr><td>32768</td><td>&quot;Lewis Cellars …</td><td>&quot;Napa Valley, C…</td><td>&quot;Red Wine&quot;</td><td>92.0</td><td>&quot;When asked to …</td></tr><tr><td>32769</td><td>&quot;Lewis Cellars …</td><td>&quot;Napa Valley, C…</td><td>&quot;White Wine&quot;</td><td>90.0</td><td>&quot;The warm, vibr…</td></tr><tr><td>32770</td><td>&quot;Lewis Cellars …</td><td>&quot;Napa Valley, C…</td><td>&quot;White Wine&quot;</td><td>92.0</td><td>&quot;Like a sailpla…</td></tr><tr><td>32771</td><td>&quot;Lewis Cellars …</td><td>&quot;Russian River,…</td><td>&quot;White Wine&quot;</td><td>93.0</td><td>&quot;Sourced from 4…</td></tr><tr><td>32772</td><td>&quot;Lewis Cellars …</td><td>&quot;Russian River,…</td><td>&quot;White Wine&quot;</td><td>92.0</td><td>&quot;Blazing tropic…</td></tr><tr><td>32773</td><td>&quot;Lewis Cellars …</td><td>&quot;Russian River,…</td><td>&quot;White Wine&quot;</td><td>92.0</td><td>&quot;Chardonnay is …</td></tr><tr><td>32774</td><td>&quot;Lewis Cellars …</td><td>&quot;Sonoma County,…</td><td>&quot;White Wine&quot;</td><td>91.0</td><td>&quot;Our Sonoma Cha…</td></tr><tr><td>32775</td><td>&quot;Lewis Cellars …</td><td>&quot;California&quot;</td><td>&quot;Red Wine&quot;</td><td>92.0</td><td>&quot;Now 7 years ol…</td></tr><tr><td>32776</td><td>&quot;Lewis Cellars …</td><td>&quot;California&quot;</td><td>&quot;Red Wine&quot;</td><td>93.0</td><td>&quot;Born in 2000, …</td></tr><tr><td>32777</td><td>&quot;Lewis Cellars …</td><td>&quot;California&quot;</td><td>&quot;Red Wine&quot;</td><td>94.0</td><td>&quot;Positioned bet…</td></tr><tr><td>32778</td><td>&quot;Lexington Apex…</td><td>&quot;Santa Cruz Mou…</td><td>&quot;Red Wine&quot;</td><td>91.0</td><td>&quot;Blend: 99% Cab…</td></tr><tr><td>32779</td><td>&quot;Lexington Gist…</td><td>&quot;Santa Cruz Mou…</td><td>&quot;Red Wine&quot;</td><td>91.0</td><td>&quot;Blend: 80% Cab…</td></tr></tbody></table></div>"
      ],
      "text/plain": [
       "shape: (32_780, 6)\n",
       "┌───────┬───────────────────────────┬──────────────┬──────────┬────────┬───────────────────────────┐\n",
       "│       ┆ name                      ┆ region       ┆ variety  ┆ rating ┆ notes                     │\n",
       "│ ---   ┆ ---                       ┆ ---          ┆ ---      ┆ ---    ┆ ---                       │\n",
       "│ i64   ┆ str                       ┆ str          ┆ str      ┆ f64    ┆ str                       │\n",
       "╞═══════╪═══════════════════════════╪══════════════╪══════════╪════════╪═══════════════════════════╡\n",
       "│ 0     ┆ 1000 Stories Bourbon      ┆ Mendocino,   ┆ Red Wine ┆ 91.0   ┆ This is a very special,   │\n",
       "│       ┆ Barrel Aged…              ┆ California   ┆          ┆        ┆ limited …                 │\n",
       "│ 1     ┆ 1000 Stories Bourbon      ┆ California   ┆ Red Wine ┆ 89.0   ┆ The California Gold Rush  │\n",
       "│       ┆ Barrel Aged…              ┆              ┆          ┆        ┆ was a p…                  │\n",
       "│ 2     ┆ 1000 Stories Bourbon      ┆ California   ┆ Red Wine ┆ 90.0   ┆ The California Gold Rush  │\n",
       "│       ┆ Barrel Aged…              ┆              ┆          ┆        ┆ was a p…                  │\n",
       "│ 3     ┆ 1000 Stories Bourbon      ┆ North Coast, ┆ Red Wine ┆ 91.0   ┆ The wine has a deep, rich │\n",
       "│       ┆ Barrel Aged…              ┆ California   ┆          ┆        ┆ purple…                   │\n",
       "│ …     ┆ …                         ┆ …            ┆ …        ┆ …      ┆ …                         │\n",
       "│ 32776 ┆ Lewis Cellars Syrah       ┆ California   ┆ Red Wine ┆ 93.0   ┆ Born in 2000, everything  │\n",
       "│       ┆ Ethan's Blen…             ┆              ┆          ┆        ┆ about E…                  │\n",
       "│ 32777 ┆ Lewis Cellars Syrah       ┆ California   ┆ Red Wine ┆ 94.0   ┆ Positioned between        │\n",
       "│       ┆ Ethan's Blen…             ┆              ┆          ┆        ┆ brothers, Ale…            │\n",
       "│ 32778 ┆ Lexington Apex Red 2011   ┆ Santa Cruz   ┆ Red Wine ┆ 91.0   ┆ Blend: 99% Cabernet       │\n",
       "│       ┆                           ┆ Mountains,   ┆          ┆        ┆ Sauvignon, 1…             │\n",
       "│       ┆                           ┆ California   ┆          ┆        ┆                           │\n",
       "│ 32779 ┆ Lexington Gist Ranch      ┆ Santa Cruz   ┆ Red Wine ┆ 91.0   ┆ Blend: 80% Cabernet       │\n",
       "│       ┆ Cabernet Sa…              ┆ Mountains,   ┆          ┆        ┆ Sauvignon, 2…             │\n",
       "│       ┆                           ┆ California   ┆          ┆        ┆                           │\n",
       "└───────┴───────────────────────────┴──────────────┴──────────┴────────┴───────────────────────────┘"
      ]
     },
     "execution_count": 2,
     "metadata": {},
     "output_type": "execute_result"
    }
   ],
   "source": [
    "lib.get_loadanddrop()"
   ]
  },
  {
   "cell_type": "code",
   "execution_count": 7,
   "metadata": {},
   "outputs": [
    {
     "name": "stdout",
     "output_type": "stream",
     "text": [
      "Count of rating is: 32780\n",
      "\n",
      "Sum of rating is: 2989097\n",
      "\n",
      "Average rating is: 91.1866076876144\n",
      "\n"
     ]
    }
   ],
   "source": [
    "r_count, r_sum, r_avg = lib.get_ratingcount_avg()\n",
    "print(f\"Count of rating is: {r_count}\\n\")\n",
    "print(f\"Sum of rating is: {r_sum}\\n\")\n",
    "print(f\"Average rating is: {r_avg}\\n\")\n"
   ]
  },
  {
   "cell_type": "code",
   "execution_count": 8,
   "metadata": {},
   "outputs": [
    {
     "name": "stdout",
     "output_type": "stream",
     "text": [
      "Median of rating is: 91.0\n"
     ]
    }
   ],
   "source": [
    "m_r = lib.get_median_rating()\n",
    "print(f\"Median of rating is: {m_r}\")\n"
   ]
  },
  {
   "cell_type": "code",
   "execution_count": 10,
   "metadata": {},
   "outputs": [
    {
     "name": "stdout",
     "output_type": "stream",
     "text": [
      "Standard deviation of rating is: 2.1903911198052723\n"
     ]
    }
   ],
   "source": [
    "std_r = lib.get_stddev_rating()\n",
    "print(f\"Standard deviation of rating is: {std_r}\")"
   ]
  }
 ],
 "metadata": {
  "kernelspec": {
   "display_name": "Python 3",
   "language": "python",
   "name": "python3"
  },
  "language_info": {
   "codemirror_mode": {
    "name": "ipython",
    "version": 3
   },
   "file_extension": ".py",
   "mimetype": "text/x-python",
   "name": "python",
   "nbconvert_exporter": "python",
   "pygments_lexer": "ipython3",
   "version": "3.10.8"
  },
  "orig_nbformat": 4
 },
 "nbformat": 4,
 "nbformat_minor": 2
}
