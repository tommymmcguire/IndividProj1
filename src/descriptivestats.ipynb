{
 "cells": [
  {
   "cell_type": "code",
   "execution_count": 1,
   "metadata": {},
   "outputs": [],
   "source": [
    "'''\n",
    "A Jupyter Notebook utilizing the descriptive statistics functions in the lib.py module.\n",
    "'''\n",
    "import lib"
   ]
  },
  {
   "cell_type": "code",
   "execution_count": 11,
   "metadata": {},
   "outputs": [
    {
     "data": {
      "text/html": [
       "<div><style>\n",
       ".dataframe > thead > tr > th,\n",
       ".dataframe > tbody > tr > td {\n",
       "  text-align: right;\n",
       "  white-space: pre-wrap;\n",
       "}\n",
       "</style>\n",
       "<small>shape: (5, 6)</small><table border=\"1\" class=\"dataframe\"><thead><tr><th></th><th>name</th><th>region</th><th>variety</th><th>rating</th><th>notes</th></tr><tr><td>i64</td><td>str</td><td>str</td><td>str</td><td>f64</td><td>str</td></tr></thead><tbody><tr><td>0</td><td>&quot;1000 Stories B…</td><td>&quot;Mendocino, Cal…</td><td>&quot;Red Wine&quot;</td><td>91.0</td><td>&quot;This is a very…</td></tr><tr><td>1</td><td>&quot;1000 Stories B…</td><td>&quot;California&quot;</td><td>&quot;Red Wine&quot;</td><td>89.0</td><td>&quot;The California…</td></tr><tr><td>2</td><td>&quot;1000 Stories B…</td><td>&quot;California&quot;</td><td>&quot;Red Wine&quot;</td><td>90.0</td><td>&quot;The California…</td></tr><tr><td>3</td><td>&quot;1000 Stories B…</td><td>&quot;North Coast, C…</td><td>&quot;Red Wine&quot;</td><td>91.0</td><td>&quot;The wine has a…</td></tr><tr><td>4</td><td>&quot;1000 Stories B…</td><td>&quot;California&quot;</td><td>&quot;Red Wine&quot;</td><td>90.0</td><td>&quot;Batch #004 is …</td></tr></tbody></table></div>"
      ],
      "text/plain": [
       "shape: (5, 6)\n",
       "┌─────┬────────────────────────┬───────────────────────┬──────────┬────────┬───────────────────────┐\n",
       "│     ┆ name                   ┆ region                ┆ variety  ┆ rating ┆ notes                 │\n",
       "│ --- ┆ ---                    ┆ ---                   ┆ ---      ┆ ---    ┆ ---                   │\n",
       "│ i64 ┆ str                    ┆ str                   ┆ str      ┆ f64    ┆ str                   │\n",
       "╞═════╪════════════════════════╪═══════════════════════╪══════════╪════════╪═══════════════════════╡\n",
       "│ 0   ┆ 1000 Stories Bourbon   ┆ Mendocino, California ┆ Red Wine ┆ 91.0   ┆ This is a very        │\n",
       "│     ┆ Barrel Aged…           ┆                       ┆          ┆        ┆ special, limited …    │\n",
       "│ 1   ┆ 1000 Stories Bourbon   ┆ California            ┆ Red Wine ┆ 89.0   ┆ The California Gold   │\n",
       "│     ┆ Barrel Aged…           ┆                       ┆          ┆        ┆ Rush was a p…         │\n",
       "│ 2   ┆ 1000 Stories Bourbon   ┆ California            ┆ Red Wine ┆ 90.0   ┆ The California Gold   │\n",
       "│     ┆ Barrel Aged…           ┆                       ┆          ┆        ┆ Rush was a p…         │\n",
       "│ 3   ┆ 1000 Stories Bourbon   ┆ North Coast,          ┆ Red Wine ┆ 91.0   ┆ The wine has a deep,  │\n",
       "│     ┆ Barrel Aged…           ┆ California            ┆          ┆        ┆ rich purple…          │\n",
       "│ 4   ┆ 1000 Stories Bourbon   ┆ California            ┆ Red Wine ┆ 90.0   ┆ Batch #004 is the     │\n",
       "│     ┆ Barrel Aged…           ┆                       ┆          ┆        ┆ first release …       │\n",
       "└─────┴────────────────────────┴───────────────────────┴──────────┴────────┴───────────────────────┘"
      ]
     },
     "execution_count": 11,
     "metadata": {},
     "output_type": "execute_result"
    }
   ],
   "source": [
    "descript = lib.get_loadanddrop()\n",
    "descript.head()"
   ]
  },
  {
   "cell_type": "code",
   "execution_count": 7,
   "metadata": {},
   "outputs": [
    {
     "name": "stdout",
     "output_type": "stream",
     "text": [
      "Count of rating is: 32780\n",
      "\n",
      "Sum of rating is: 2989097\n",
      "\n",
      "Average rating is: 91.1866076876144\n",
      "\n"
     ]
    }
   ],
   "source": [
    "r_count, r_sum, r_avg = lib.get_ratingcount_avg()\n",
    "print(f\"Count of rating is: {r_count}\\n\")\n",
    "print(f\"Sum of rating is: {r_sum}\\n\")\n",
    "print(f\"Average rating is: {r_avg}\\n\")\n"
   ]
  },
  {
   "cell_type": "code",
   "execution_count": 8,
   "metadata": {},
   "outputs": [
    {
     "name": "stdout",
     "output_type": "stream",
     "text": [
      "Median of rating is: 91.0\n"
     ]
    }
   ],
   "source": [
    "m_r = lib.get_median_rating()\n",
    "print(f\"Median of rating is: {m_r}\")\n"
   ]
  },
  {
   "cell_type": "code",
   "execution_count": 10,
   "metadata": {},
   "outputs": [
    {
     "name": "stdout",
     "output_type": "stream",
     "text": [
      "Standard deviation of rating is: 2.1903911198052723\n"
     ]
    }
   ],
   "source": [
    "std_r = lib.get_stddev_rating()\n",
    "print(f\"Standard deviation of rating is: {std_r}\")"
   ]
  }
 ],
 "metadata": {
  "kernelspec": {
   "display_name": "Python 3",
   "language": "python",
   "name": "python3"
  },
  "language_info": {
   "codemirror_mode": {
    "name": "ipython",
    "version": 3
   },
   "file_extension": ".py",
   "mimetype": "text/x-python",
   "name": "python",
   "nbconvert_exporter": "python",
   "pygments_lexer": "ipython3",
   "version": "3.10.8"
  },
  "orig_nbformat": 4
 },
 "nbformat": 4,
 "nbformat_minor": 2
}
